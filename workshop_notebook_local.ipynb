{
  "cells": [
    {
      "cell_type": "markdown",
      "id": "S_zvrgde9N9H",
      "metadata": {
        "id": "S_zvrgde9N9H"
      },
      "source": [
        "# Step 1. Loading Public Clinical Notes Data from Hugging Face\n",
        "Per the dataset page on HuggingFace located at [https://huggingface.co/datasets/AGBonnet/augmented-clinical-notes](https://huggingface.co/datasets/AGBonnet/augmented-clinical-notes)\n",
        "\n",
        "### Augmented Clinical Notes\n",
        "\n",
        "The Augmented Clinical Notes dataset is an extension of existing datasets containing 30,000 triplets from different sources:\n",
        "\n",
        "    - Real clinical notes (PMC-Patients): Clinical notes correspond to patient summaries from the PMC-Patients dataset, which are extracted from PubMed Central case studies.\n",
        "    - Synthetic dialogues (NoteChat): Synthetic patient-doctor conversations were generated from clinical notes using GPT 3.5.\n",
        "    - Structured patient information (ours): From clinical notes, we generate structured patient summaries using GPT-4 and a tailored medical information template (see details below).\n",
        "\n",
        "This dataset was used to train MediNote-7B and MediNote-13B, a set of clinical note generators fine-tuned from the MediTron large language models.\n",
        "\n",
        "Our full report is available [here](https://huggingface.co/datasets/AGBonnet/augmented-clinical-notes/blob/main/report.pdf).\n",
        "### Dataset Details\n",
        "\n",
        "    - Curated by: Antoine Bonnet and Paul Boulenger\n",
        "    - Language(s): English only\n",
        "    - Repository: EPFL-IC-Make-Team/ClinicalNotes\n",
        "    - Paper: MediNote: Automated Clinical Notes\n",
        "\n"
      ]
    },
    {
      "cell_type": "code",
      "execution_count": 1,
      "id": "1e6e2402",
      "metadata": {
        "id": "1e6e2402"
      },
      "outputs": [],
      "source": [
        "import pandas as pd\n",
        "import warnings\n",
        "warnings.filterwarnings(\"ignore\", category=UserWarning)"
      ]
    },
    {
      "cell_type": "code",
      "execution_count": 2,
      "id": "e243e140",
      "metadata": {
        "id": "e243e140"
      },
      "outputs": [
        {
          "name": "stderr",
          "output_type": "stream",
          "text": [
            "/Users/troy/arch_workshop_scispacy_entity_linking_ws11/environment/lib/python3.9/site-packages/requests/__init__.py:86: RequestsDependencyWarning: Unable to find acceptable character detection dependency (chardet or charset_normalizer).\n",
            "  warnings.warn(\n"
          ]
        }
      ],
      "source": [
        "# load in the clinical notes dataset from huggingface\n",
        "df = pd.read_json(\"hf://datasets/AGBonnet/augmented-clinical-notes/augmented_notes_30K.jsonl\", lines=True, nrows=300)"
      ]
    },
    {
      "cell_type": "code",
      "execution_count": 3,
      "id": "8b0791db",
      "metadata": {
        "id": "8b0791db"
      },
      "outputs": [
        {
          "data": {
            "text/html": [
              "<div>\n",
              "<style scoped>\n",
              "    .dataframe tbody tr th:only-of-type {\n",
              "        vertical-align: middle;\n",
              "    }\n",
              "\n",
              "    .dataframe tbody tr th {\n",
              "        vertical-align: top;\n",
              "    }\n",
              "\n",
              "    .dataframe thead th {\n",
              "        text-align: right;\n",
              "    }\n",
              "</style>\n",
              "<table border=\"1\" class=\"dataframe\">\n",
              "  <thead>\n",
              "    <tr style=\"text-align: right;\">\n",
              "      <th></th>\n",
              "      <th>note</th>\n",
              "      <th>conversation</th>\n",
              "      <th>idx</th>\n",
              "      <th>summary</th>\n",
              "      <th>full_note</th>\n",
              "    </tr>\n",
              "  </thead>\n",
              "  <tbody>\n",
              "    <tr>\n",
              "      <th>0</th>\n",
              "      <td>A a sixteen year-old girl, presented to our Ou...</td>\n",
              "      <td>Doctor: Good morning, what brings you to the O...</td>\n",
              "      <td>155216</td>\n",
              "      <td>{\\n\"visit motivation\": \"Discomfort in the neck...</td>\n",
              "      <td>A a sixteen year-old girl, presented to our Ou...</td>\n",
              "    </tr>\n",
              "    <tr>\n",
              "      <th>1</th>\n",
              "      <td>This is the case of a 56-year-old man that was...</td>\n",
              "      <td>Doctor: Hi, how are you feeling today?\\nPatien...</td>\n",
              "      <td>77465</td>\n",
              "      <td>{\\n\"visit motivation\": \"Complaints of a dull p...</td>\n",
              "      <td>This is the case of a 56-year-old man that was...</td>\n",
              "    </tr>\n",
              "    <tr>\n",
              "      <th>2</th>\n",
              "      <td>A 36-year old female patient visited our hospi...</td>\n",
              "      <td>Doctor: Hello, what brings you to the hospital...</td>\n",
              "      <td>133948</td>\n",
              "      <td>{\\n\"visit motivation\": \"Pain and restricted ra...</td>\n",
              "      <td>A 36-year old female patient visited our hospi...</td>\n",
              "    </tr>\n",
              "    <tr>\n",
              "      <th>3</th>\n",
              "      <td>A 49-year-old male presented with a complaint ...</td>\n",
              "      <td>Doctor: Good morning, Mr. [Patient's Name]. I'...</td>\n",
              "      <td>80176</td>\n",
              "      <td>{\\n\"visit motivation\": \"Pain in the left proxi...</td>\n",
              "      <td>A 49-year-old male presented with a complaint ...</td>\n",
              "    </tr>\n",
              "    <tr>\n",
              "      <th>4</th>\n",
              "      <td>A 47-year-old male patient was referred to the...</td>\n",
              "      <td>Doctor: Good morning, how are you feeling toda...</td>\n",
              "      <td>72232</td>\n",
              "      <td>{\\n\"visit motivation\": \"Recurrent attacks of p...</td>\n",
              "      <td>A 47-year-old male patient was referred to the...</td>\n",
              "    </tr>\n",
              "    <tr>\n",
              "      <th>...</th>\n",
              "      <td>...</td>\n",
              "      <td>...</td>\n",
              "      <td>...</td>\n",
              "      <td>...</td>\n",
              "      <td>...</td>\n",
              "    </tr>\n",
              "    <tr>\n",
              "      <th>295</th>\n",
              "      <td>A 36-year-old man, originally from Latin Ameri...</td>\n",
              "      <td>Doctor: Hello, what brings you in today?\\nPati...</td>\n",
              "      <td>174877</td>\n",
              "      <td>{\\n\"visit motivation\": \"Complaints of abdomina...</td>\n",
              "      <td>A 36-year-old man, originally from Latin Ameri...</td>\n",
              "    </tr>\n",
              "    <tr>\n",
              "      <th>296</th>\n",
              "      <td>An otherwise healthy 22-year-old caucasian wom...</td>\n",
              "      <td>Doctor: Good morning, how can I help you today...</td>\n",
              "      <td>41761</td>\n",
              "      <td>{\\n\"visit motivation\": \"Accelerated growth of ...</td>\n",
              "      <td>An otherwise healthy 22-year-old caucasian wom...</td>\n",
              "    </tr>\n",
              "    <tr>\n",
              "      <th>297</th>\n",
              "      <td>A 36-year-old man, originally from Latin Ameri...</td>\n",
              "      <td>Doctor: Good afternoon, sir. I understand that...</td>\n",
              "      <td>7876</td>\n",
              "      <td>{\\n\"visit motivation\": \"Complaints of abdomina...</td>\n",
              "      <td>A 36-year-old man, originally from Latin Ameri...</td>\n",
              "    </tr>\n",
              "    <tr>\n",
              "      <th>298</th>\n",
              "      <td>Our patient is a 38-year-old male who presente...</td>\n",
              "      <td>Doctor: Hi there, how are you feeling today?\\n...</td>\n",
              "      <td>182286</td>\n",
              "      <td>{\\n\"visit motivation\": \"Right chest wall and s...</td>\n",
              "      <td>Our patient is a 38-year-old male who presente...</td>\n",
              "    </tr>\n",
              "    <tr>\n",
              "      <th>299</th>\n",
              "      <td>A 72-year old man, previously well, was admitt...</td>\n",
              "      <td>Doctor: Good morning, sir. How are you feeling...</td>\n",
              "      <td>90099</td>\n",
              "      <td>{\\n\"visit motivation\": \"Fever, recurrent blood...</td>\n",
              "      <td>A 72-year old man, previously well, was admitt...</td>\n",
              "    </tr>\n",
              "  </tbody>\n",
              "</table>\n",
              "<p>300 rows × 5 columns</p>\n",
              "</div>"
            ],
            "text/plain": [
              "                                                  note  \\\n",
              "0    A a sixteen year-old girl, presented to our Ou...   \n",
              "1    This is the case of a 56-year-old man that was...   \n",
              "2    A 36-year old female patient visited our hospi...   \n",
              "3    A 49-year-old male presented with a complaint ...   \n",
              "4    A 47-year-old male patient was referred to the...   \n",
              "..                                                 ...   \n",
              "295  A 36-year-old man, originally from Latin Ameri...   \n",
              "296  An otherwise healthy 22-year-old caucasian wom...   \n",
              "297  A 36-year-old man, originally from Latin Ameri...   \n",
              "298  Our patient is a 38-year-old male who presente...   \n",
              "299  A 72-year old man, previously well, was admitt...   \n",
              "\n",
              "                                          conversation     idx  \\\n",
              "0    Doctor: Good morning, what brings you to the O...  155216   \n",
              "1    Doctor: Hi, how are you feeling today?\\nPatien...   77465   \n",
              "2    Doctor: Hello, what brings you to the hospital...  133948   \n",
              "3    Doctor: Good morning, Mr. [Patient's Name]. I'...   80176   \n",
              "4    Doctor: Good morning, how are you feeling toda...   72232   \n",
              "..                                                 ...     ...   \n",
              "295  Doctor: Hello, what brings you in today?\\nPati...  174877   \n",
              "296  Doctor: Good morning, how can I help you today...   41761   \n",
              "297  Doctor: Good afternoon, sir. I understand that...    7876   \n",
              "298  Doctor: Hi there, how are you feeling today?\\n...  182286   \n",
              "299  Doctor: Good morning, sir. How are you feeling...   90099   \n",
              "\n",
              "                                               summary  \\\n",
              "0    {\\n\"visit motivation\": \"Discomfort in the neck...   \n",
              "1    {\\n\"visit motivation\": \"Complaints of a dull p...   \n",
              "2    {\\n\"visit motivation\": \"Pain and restricted ra...   \n",
              "3    {\\n\"visit motivation\": \"Pain in the left proxi...   \n",
              "4    {\\n\"visit motivation\": \"Recurrent attacks of p...   \n",
              "..                                                 ...   \n",
              "295  {\\n\"visit motivation\": \"Complaints of abdomina...   \n",
              "296  {\\n\"visit motivation\": \"Accelerated growth of ...   \n",
              "297  {\\n\"visit motivation\": \"Complaints of abdomina...   \n",
              "298  {\\n\"visit motivation\": \"Right chest wall and s...   \n",
              "299  {\\n\"visit motivation\": \"Fever, recurrent blood...   \n",
              "\n",
              "                                             full_note  \n",
              "0    A a sixteen year-old girl, presented to our Ou...  \n",
              "1    This is the case of a 56-year-old man that was...  \n",
              "2    A 36-year old female patient visited our hospi...  \n",
              "3    A 49-year-old male presented with a complaint ...  \n",
              "4    A 47-year-old male patient was referred to the...  \n",
              "..                                                 ...  \n",
              "295  A 36-year-old man, originally from Latin Ameri...  \n",
              "296  An otherwise healthy 22-year-old caucasian wom...  \n",
              "297  A 36-year-old man, originally from Latin Ameri...  \n",
              "298  Our patient is a 38-year-old male who presente...  \n",
              "299  A 72-year old man, previously well, was admitt...  \n",
              "\n",
              "[300 rows x 5 columns]"
            ]
          },
          "execution_count": 3,
          "metadata": {},
          "output_type": "execute_result"
        }
      ],
      "source": [
        "df"
      ]
    },
    {
      "cell_type": "markdown",
      "id": "VgyfafOY-Ko6",
      "metadata": {
        "id": "VgyfafOY-Ko6"
      },
      "source": [
        "# Step 2. Importing scispaCy package and creation of model for Named Entity Linking"
      ]
    },
    {
      "cell_type": "code",
      "execution_count": 4,
      "id": "LXiKSiZ59fc_",
      "metadata": {
        "id": "LXiKSiZ59fc_"
      },
      "outputs": [],
      "source": [
        "import spacy\n",
        "import scispacy\n",
        "from scispacy.linking import EntityLinker"
      ]
    },
    {
      "cell_type": "code",
      "execution_count": 5,
      "id": "hrZizxJE-RtR",
      "metadata": {
        "id": "hrZizxJE-RtR"
      },
      "outputs": [
        {
          "name": "stderr",
          "output_type": "stream",
          "text": [
            "/Users/troy/arch_workshop_scispacy_entity_linking_ws11/environment/lib/python3.9/site-packages/spacy/language.py:2195: FutureWarning: Possible set union at position 6328\n",
            "  deserializers[\"tokenizer\"] = lambda p: self.tokenizer.from_disk(  # type: ignore[union-attr]\n"
          ]
        }
      ],
      "source": [
        "# now we create our model instance which can be used to process biomedical text\n",
        "nlp = spacy.load(\"en_core_sci_sm\")"
      ]
    },
    {
      "cell_type": "code",
      "execution_count": 6,
      "id": "8Fq942z1-eSt",
      "metadata": {
        "id": "8Fq942z1-eSt"
      },
      "outputs": [
        {
          "data": {
            "text/plain": [
              "<scispacy.linking.EntityLinker at 0x33e5e3850>"
            ]
          },
          "execution_count": 6,
          "metadata": {},
          "output_type": "execute_result"
        }
      ],
      "source": [
        "# now we add a linker to the UMLS knowledgebase to our model pipeline\n",
        "nlp.add_pipe(\"scispacy_linker\", config={\"resolve_abbreviations\": True, \"linker_name\": \"mesh\"})"
      ]
    },
    {
      "cell_type": "code",
      "execution_count": 7,
      "id": "8CBm8-vCDNxE",
      "metadata": {
        "id": "8CBm8-vCDNxE"
      },
      "outputs": [],
      "source": [
        "linker = nlp.get_pipe(\"scispacy_linker\")"
      ]
    },
    {
      "cell_type": "markdown",
      "id": "91c5cb15",
      "metadata": {},
      "source": [
        "### Quick Example: Getting the Entities from one of the clinical notes"
      ]
    },
    {
      "cell_type": "code",
      "execution_count": 9,
      "id": "5266b8b6",
      "metadata": {},
      "outputs": [
        {
          "name": "stdout",
          "output_type": "stream",
          "text": [
            "year-old ENTITY []\n",
            "girl ENTITY [('C0043210', 0.9925637245178223)]\n",
            "Outpatient department ENTITY [('C0029921', 0.7193280458450317)]\n",
            "complaints ENTITY []\n",
            "discomfort ENTITY []\n",
            "neck ENTITY [('C0027530', 0.9866217970848083), ('C0007859', 0.7661657333374023), ('C0746787', 0.7246235609054565)]\n",
            "restriction ENTITY [('C1135809', 0.8025245070457458), ('C0425422', 0.7399560213088989)]\n",
            "body movements ENTITY [('C0026649', 0.8049532771110535), ('C1621968', 0.7099595069885254)]\n",
            "erect ENTITY []\n",
            "posture ENTITY [('C1262869', 0.9909231662750244), ('C1256755', 0.7185211181640625)]\n",
            "fall ENTITY []\n",
            "side ENTITY []\n",
            "standing ENTITY [('C4277736', 0.7244225740432739)]\n",
            "sitting position ENTITY [('C0277814', 0.9761723279953003), ('C2584297', 0.714629590511322)]\n",
            "head ENTITY [('C0018670', 0.9888428449630737), ('C0018681', 0.7552989721298218), ('C0411280', 0.7389206290245056), ('C3658201', 0.7268886566162109)]\n",
            "right ENTITY [('C0225844', 0.7840086817741394), ('C0030706', 0.7462760806083679), ('C0035617', 0.7291967868804932), ('C0009993', 0.7221912741661072), ('C0680538', 0.7171189188957214)]\n",
            "upwards ENTITY []\n",
            "sustained ENTITY []\n",
            "contraction ENTITY [('C0042130', 0.7502720355987549), ('C0700589', 0.7478941679000854), ('C0022205', 0.7427281737327576), ('C0040597', 0.7404502630233765), ('C0026820', 0.717886209487915)]\n",
            "neck muscles ENTITY [('C0027532', 0.9877676367759705), ('C0026845', 0.7902268767356873), ('C0224334', 0.7218003869056702)]\n",
            "bending ENTITY []\n",
            "lumbar region ENTITY [('C0024090', 0.9767869710922241)]\n",
            "abnormal ENTITY [('C0853087', 0.7619378566741943), ('C0000769', 0.7300812005996704), ('C0034933', 0.7116344571113586)]\n",
            "back ENTITY [('C0004600', 0.9876148700714111), ('C0004604', 0.7507407665252686)]\n",
            "neck ENTITY [('C0027530', 0.9866217970848083), ('C0007859', 0.7661657333374023), ('C0746787', 0.7246235609054565)]\n",
            "limbs ENTITY [('C0015385', 0.9820932149887085), ('C1140618', 0.7472891211509705), ('C0031315', 0.74050372838974), ('C0023216', 0.730868935585022)]\n",
            "position ENTITY [('C0033422', 0.854817271232605), ('C0887940', 0.8337503671646118), ('C2584297', 0.7363409399986267), ('C0022396', 0.7304338216781616), ('C0231472', 0.7068552374839783)]\n",
            "body weight ENTITY [('C0005910', 0.9955055713653564), ('C0751992', 0.8709143996238708), ('C0421272', 0.8669779300689697), ('C0005911', 0.8545138835906982), ('C0005890', 0.8069666028022766)]\n",
            "restrictions ENTITY [('C0425422', 0.7603635787963867), ('C1135809', 0.7101812958717346), ('C0009813', 0.7082440257072449)]\n",
            "body movements ENTITY [('C0026649', 0.8049532771110535), ('C1621968', 0.7099595069885254)]\n",
            "neck ENTITY [('C0027530', 0.9866217970848083), ('C0007859', 0.7661657333374023), ('C0746787', 0.7246235609054565)]\n",
            "lumbar region ENTITY [('C0024090', 0.9767869710922241)]\n",
            "assistance ENTITY [('C5575607', 0.787024736404419), ('C5392059', 0.7850464582443237), ('C0025070', 0.782569408416748), ('C3494395', 0.768591582775116), ('C0028917', 0.7208255529403687)]\n",
            "standing ENTITY [('C4277736', 0.7244225740432739)]\n",
            "walking ENTITY [('C0080331', 0.9611299633979797), ('C5544399', 0.8442838788032532), ('C2009910', 0.8152899146080017), ('C0006856', 0.7817254662513733), ('C0079122', 0.7210985422134399)]\n",
            "parents ENTITY [('C0030551', 0.9909891486167908), ('C0282288', 0.7359898090362549), ('C0037177', 0.705957293510437)]\n",
            "daily chores ENTITY []\n",
            "activities ENTITY [('C0020115', 0.8896912336349487), ('C0026606', 0.8243647217750549), ('C0376617', 0.8018240332603455), ('C0015946', 0.793308436870575), ('C0015259', 0.7321232557296753)]\n",
            "self-care ENTITY [('C0036592', 0.9718899726867676), ('C0036603', 0.837113082408905)]\n",
            "difficulties ENTITY [('C0311394', 0.7623626589775085)]\n",
            "months ENTITY []\n",
            "olanzapine tablets ENTITY [('C0171023', 0.7324884533882141)]\n",
            "control ENTITY [('C0243148', 0.991750180721283), ('C0010176', 0.8236546516418457), ('C0031249', 0.7554522156715393), ('C0040195', 0.7208614349365234), ('C0013168', 0.7175406217575073)]\n",
            "exacerbated ENTITY []\n",
            "mental illness ENTITY [('C0004936', 0.9620214104652405)]\n",
            "experience ENTITY []\n",
            "drug ENTITY [('C0013227', 0.9936608076095581), ('C0033262', 0.8390361070632935), ('C0085123', 0.766329824924469), ('C0338666', 0.7473032474517822), ('C4505277', 0.7214553952217102)]\n",
            "years ENTITY []\n",
            "diagnosed ENTITY [('C0011900', 0.8406866788864136), ('C5197778', 0.7677266001701355), ('C5197901', 0.7344346642494202), ('C1704338', 0.7156639695167542), ('C2718037', 0.7025080323219299)]\n",
            "bipolar affective disorder ENTITY [('C0525045', 0.8289896249771118), ('C0005586', 0.7818328738212585)]\n",
            "affective disorder ENTITY [('C0525045', 0.9849864840507507), ('C0085159', 0.8265387415885925), ('C0001723', 0.7863879799842834), ('C0036337', 0.728083074092865), ('C0001546', 0.7194483876228333)]\n",
            "mania ENTITY [('C0338831', 0.9893568754196167)]\n",
            "age ENTITY [('C0024842', 0.7341758012771606)]\n",
            "olanzapine tablets ENTITY [('C0171023', 0.7324884533882141)]\n",
            "doses ENTITY [('C0001122', 0.7067771553993225)]\n",
            "day ENTITY [('C0011017', 0.7749279737472534)]\n",
            "times ENTITY [('C0587119', 0.7385876774787903)]\n",
            "patient ENTITY [('C0030705', 0.9867361187934875), ('C0017313', 0.7822315692901611), ('C0030693', 0.7278388142585754), ('C0030699', 0.7236090302467346), ('C4277550', 0.7208460569381714)]\n",
            "pain ENTITY [('C0030193', 0.9654926061630249)]\n",
            "discomfort ENTITY []\n",
            "neck ENTITY [('C0027530', 0.9866217970848083), ('C0007859', 0.7661657333374023), ('C0746787', 0.7246235609054565)]\n",
            "week ENTITY []\n",
            "tablet ENTITY [('C0039225', 0.9957273602485657), ('C1706074', 0.7619259357452393), ('C0042264', 0.7252132892608643)]\n",
            "olanzapine ENTITY [('C0171023', 0.9550480842590332)]\n",
            "dose ENTITY []\n",
            "day ENTITY [('C0011017', 0.7749279737472534)]\n",
            "associated with ENTITY []\n",
            "sustained ENTITY []\n",
            "abnormal ENTITY [('C0853087', 0.7619378566741943), ('C0000769', 0.7300812005996704), ('C0034933', 0.7116344571113586)]\n",
            "contraction ENTITY [('C0042130', 0.7502720355987549), ('C0700589', 0.7478941679000854), ('C0022205', 0.7427281737327576), ('C0040597', 0.7404502630233765), ('C0026820', 0.717886209487915)]\n",
            "neck muscles ENTITY [('C0027532', 0.9877676367759705), ('C0026845', 0.7902268767356873), ('C0224334', 0.7218003869056702)]\n",
            "right ENTITY [('C0225844', 0.7840086817741394), ('C0030706', 0.7462760806083679), ('C0035617', 0.7291967868804932), ('C0009993', 0.7221912741661072), ('C0680538', 0.7171189188957214)]\n",
            "upward direction ENTITY []\n",
            "features ENTITY []\n",
            "years ENTITY []\n",
            "illness ENTITY [('C0162698', 0.8484218716621399), ('C0282507', 0.8401678800582886), ('C0004936', 0.8316934704780579), ('C0008679', 0.8031474351882935), ('C0010340', 0.763505756855011)]\n",
            "intensity ENTITY []\n",
            "distress ENTITY [('C0015930', 0.7644016742706299)]\n",
            "dysfunction ENTITY [('C0031847', 0.9661932587623596), ('C1275684', 0.841643750667572), ('C0086565', 0.8314308524131775), ('C0242350', 0.8108248710632324), ('C0242698', 0.806504487991333)]\n",
            "dose ENTITY []\n",
            "olanzapine ENTITY [('C0171023', 0.9550480842590332)]\n",
            "period ENTITY [('C0080129', 0.9185203909873962), ('C2712230', 0.8241288661956787), ('C2717943', 0.8048132658004761), ('C2936491', 0.7536208629608154)]\n",
            "weeks ENTITY []\n",
            "tablet trihexyphenidyl 4 ENTITY [('C0041009', 0.8047394752502441)]\n",
            "day ENTITY [('C0011017', 0.7749279737472534)]\n",
            "rigidity ENTITY [('C1320474', 0.7842249274253845), ('C0026837', 0.7730925679206848), ('C0011103', 0.7377976179122925), ('C0231521', 0.7309184670448303)]\n",
            "upper limbs ENTITY [('C1140618', 0.9720131158828735)]\n",
            "prescribed ENTITY []\n",
            "psychotropic medication ENTITY []\n",
            "rigidity ENTITY [('C1320474', 0.7842249274253845), ('C0026837', 0.7730925679206848), ('C0011103', 0.7377976179122925), ('C0231521', 0.7309184670448303)]\n",
            "good response ENTITY []\n",
            "medication ENTITY [('C0033045', 0.758690357208252), ('C0025115', 0.7502469420433044), ('C2317067', 0.7410527467727661), ('C2922974', 0.7337265610694885), ('C0025116', 0.7225088477134705)]\n"
          ]
        }
      ],
      "source": [
        "doc = nlp(df['note'][0])\n",
        "for ent in doc.ents:\n",
        "    print(ent.text, ent.label_, ent._.kb_ents)"
      ]
    },
    {
      "cell_type": "markdown",
      "id": "SUyBWBBIHBCH",
      "metadata": {
        "id": "SUyBWBBIHBCH"
      },
      "source": [
        "# Step 3. Definition of Function for Extracting Named Entities from the Clinical Notes\n",
        "Here we define a function that, given the text for a note, extracts the top 3 linked vocabulary terms by score/confidence \\\n",
        " for each entity in the note, and then returns these as a pandas `DataFrame`"
      ]
    },
    {
      "cell_type": "code",
      "execution_count": null,
      "id": "1ChkfTpnCWjG",
      "metadata": {
        "id": "1ChkfTpnCWjG"
      },
      "outputs": [],
      "source": [
        "def get_linked_entities_for_doc(text, nlp, linker):\n",
        "  # get the document\n",
        "  doc = nlp(text)\n",
        "  # get the linked entities\n",
        "  linked_entities = []\n",
        "  for ent in doc.ents: # get all recognized entities\n",
        "    for entry in ent._.kb_ents[:3]: # get the top 3 linked vocabulary terms for each entity\n",
        "      linked_entities.append({\n",
        "          'entity_name': ent.text,\n",
        "          'cui': entry[0],\n",
        "          'score': entry[1],\n",
        "          'name': linker.kb.cui_to_entity[entry[0]].canonical_name,\n",
        "          'definition': linker.kb.cui_to_entity[entry[0]].definition,\n",
        "          'type_ids': ','.join(linker.kb.cui_to_entity[entry[0]].types),\n",
        "      })\n",
        "  return pd.DataFrame(linked_entities).drop_duplicates()\n"
      ]
    },
    {
      "cell_type": "markdown",
      "id": "0f68fd5e",
      "metadata": {},
      "source": [
        "#### Here we get the linked entities for a single document and filter to only include those with a score of at least 0.9"
      ]
    },
    {
      "cell_type": "code",
      "execution_count": null,
      "id": "l_TyJxYVDXu3",
      "metadata": {
        "id": "l_TyJxYVDXu3"
      },
      "outputs": [],
      "source": [
        "get_linked_entities_for_doc(df['full_note'][1], nlp, linker).query('score >= 0.9')"
      ]
    },
    {
      "cell_type": "code",
      "execution_count": null,
      "id": "kPbNRXDhGhhP",
      "metadata": {
        "id": "kPbNRXDhGhhP"
      },
      "outputs": [],
      "source": [
        "import pprint"
      ]
    },
    {
      "cell_type": "code",
      "execution_count": null,
      "id": "jThaBDetDdmI",
      "metadata": {
        "id": "jThaBDetDdmI"
      },
      "outputs": [],
      "source": [
        "pp = pprint.PrettyPrinter(indent=4)\n",
        "pp.pprint(df['full_note'][1])"
      ]
    },
    {
      "cell_type": "markdown",
      "id": "CUdDPG3rILeb",
      "metadata": {
        "id": "CUdDPG3rILeb"
      },
      "source": [
        "# Step 4. Extracting All Named Entities from The Clinical Notes\n",
        "Now we loop over the clinical notes dataset, and use our previously defined function to \\\n",
        "extract all linked entities for each note with a confidence score >= 0.9"
      ]
    },
    {
      "cell_type": "code",
      "execution_count": null,
      "id": "8sNWC-YqIXri",
      "metadata": {
        "id": "8sNWC-YqIXri"
      },
      "outputs": [],
      "source": [
        "from tqdm import tqdm"
      ]
    },
    {
      "cell_type": "code",
      "execution_count": null,
      "id": "j-M1exzmIQLF",
      "metadata": {
        "id": "j-M1exzmIQLF"
      },
      "outputs": [],
      "source": [
        "linked_entity_dfs = []\n",
        "for _, row in tqdm(df.iterrows(), total=len(df)):\n",
        "  linked_entities = get_linked_entities_for_doc(row['full_note'], nlp, linker).query('score >= 0.9')\n",
        "  linked_entity_dfs.append(\n",
        "      linked_entities.assign(type_ids_lst=lambda x: x['type_ids'].str.split(','))\n",
        "      .explode('type_ids_lst').assign(note_id=row['idx'])\n",
        "    )"
      ]
    },
    {
      "cell_type": "code",
      "execution_count": null,
      "id": "pnl69nWYJM77",
      "metadata": {
        "id": "pnl69nWYJM77"
      },
      "outputs": [],
      "source": [
        "linked_entities_all = pd.concat(linked_entity_dfs)"
      ]
    },
    {
      "cell_type": "code",
      "execution_count": null,
      "id": "5HHc7poOKho3",
      "metadata": {
        "id": "5HHc7poOKho3"
      },
      "outputs": [],
      "source": [
        "linked_entities_all"
      ]
    },
    {
      "cell_type": "code",
      "execution_count": null,
      "id": "8emMpP--K4Ke",
      "metadata": {
        "id": "8emMpP--K4Ke"
      },
      "outputs": [],
      "source": [
        "# inspecting the top 50 occuring linked entity names\n",
        "linked_entities_all['entity_name'].value_counts().head(50)"
      ]
    },
    {
      "cell_type": "markdown",
      "id": "REatisA7sKfP",
      "metadata": {
        "id": "REatisA7sKfP"
      },
      "source": [
        "# Step 5. Labeling Semantic Types for All Linked Entities\n",
        "Now we load in a dataset of semantic type labels and link these into the linked entities dataset"
      ]
    },
    {
      "cell_type": "code",
      "execution_count": null,
      "id": "nusdkexPsV13",
      "metadata": {
        "id": "nusdkexPsV13"
      },
      "outputs": [],
      "source": [
        "# first load in the file containing the labels for the semantic types\n",
        "semantic_type_labels = pd.read_csv('https://github.com/expmed/arch_workshop_scispacy_entity_linking_ws11/raw/refs/heads/main/umls_terms.txt')"
      ]
    },
    {
      "cell_type": "code",
      "execution_count": null,
      "id": "hbK8rBNBslC3",
      "metadata": {
        "id": "hbK8rBNBslC3"
      },
      "outputs": [],
      "source": [
        "semantic_type_labels"
      ]
    },
    {
      "cell_type": "code",
      "execution_count": null,
      "id": "F9GpwDfjspaO",
      "metadata": {
        "id": "F9GpwDfjspaO"
      },
      "outputs": [],
      "source": [
        "# now we add in these semantic type labels\n",
        "linked_entities_final = linked_entities_all.merge(\n",
        "    semantic_type_labels,\n",
        "    left_on='type_ids_lst',\n",
        "    right_on='tui',\n",
        "    how='left'\n",
        ")"
      ]
    },
    {
      "cell_type": "code",
      "execution_count": null,
      "id": "tCxw5JIKtBf5",
      "metadata": {
        "id": "tCxw5JIKtBf5"
      },
      "outputs": [],
      "source": [
        "linked_entities_final"
      ]
    },
    {
      "cell_type": "markdown",
      "id": "nlWctHbXtUUP",
      "metadata": {
        "id": "nlWctHbXtUUP"
      },
      "source": [
        "## Mini Exercise: Show the Top 20 Most Frequently Occuring Semantic Types Among Linked Entities"
      ]
    },
    {
      "cell_type": "code",
      "execution_count": null,
      "id": "h0kPiA-itdX1",
      "metadata": {
        "id": "h0kPiA-itdX1"
      },
      "outputs": [],
      "source": [
        "# Your solution below..."
      ]
    },
    {
      "cell_type": "markdown",
      "id": "9zFfgUbkKpH0",
      "metadata": {
        "id": "9zFfgUbkKpH0"
      },
      "source": [
        "# Step 6. Utilizing Publicly Available Crosswalk File to Link Entities to MeSH Terms and SNOMED Terms\n",
        "Here we utilize data extracted from the `MRCONSO.RRF` file hosted at [the National Library of Medicine](https://www.nlm.nih.gov/research/umls/new_users/online_learning/Meta_006.html) to crosswalk the CUI #s of the linked entities to Medical Subject Heading (MeSH) terms and Systematized Nomenclature of Medicine (SNOMED) terms."
      ]
    },
    {
      "cell_type": "code",
      "execution_count": null,
      "id": "aFjQS_GKLBig",
      "metadata": {
        "id": "aFjQS_GKLBig"
      },
      "outputs": [],
      "source": [
        "# first we load in mappings from UMLS concept unique ids to Medical Subject Heading (MeSH) terms\n",
        "mrconso_mesh_mappings = pd.read_parquet('https://github.com/expmed/arch_workshop_scispacy_entity_linking_ws11/raw/refs/heads/main/mrconso_mesh.parquet')"
      ]
    },
    {
      "cell_type": "code",
      "execution_count": null,
      "id": "uinf_0YYLNbk",
      "metadata": {
        "id": "uinf_0YYLNbk"
      },
      "outputs": [],
      "source": [
        "mrconso_mesh_mappings"
      ]
    },
    {
      "cell_type": "code",
      "execution_count": null,
      "id": "oPmmv2fgOwjb",
      "metadata": {
        "id": "oPmmv2fgOwjb"
      },
      "outputs": [],
      "source": [
        "# now we can merge the linked entities with the MeSH mappings\n",
        "linked_entities_mesh = linked_entities_final.merge(\n",
        "    mrconso_mesh_mappings,\n",
        "    left_on='cui',\n",
        "    right_on='CUI',\n",
        "    how='left'\n",
        ")"
      ]
    },
    {
      "cell_type": "code",
      "execution_count": null,
      "id": "WSJwryuwO9Uu",
      "metadata": {
        "id": "WSJwryuwO9Uu"
      },
      "outputs": [],
      "source": [
        "linked_entities_mesh"
      ]
    },
    {
      "cell_type": "code",
      "execution_count": null,
      "id": "ZBDEwp1OO-N3",
      "metadata": {
        "id": "ZBDEwp1OO-N3"
      },
      "outputs": [],
      "source": [
        "# now we load in the mappings from CUIs to Systematized Nomenclature of Medicine - Clinical Terms\n",
        "mrconso_snomed_mappings = pd.read_parquet('https://github.com/expmed/arch_workshop_scispacy_entity_linking_ws11/raw/refs/heads/main/mrconso_snomed.parquet')"
      ]
    },
    {
      "cell_type": "code",
      "execution_count": null,
      "id": "JNuB7665PS7E",
      "metadata": {
        "id": "JNuB7665PS7E"
      },
      "outputs": [],
      "source": [
        "linked_entities_snomed = linked_entities_final.merge(\n",
        "    mrconso_snomed_mappings,\n",
        "    left_on='cui',\n",
        "    right_on='CUI',\n",
        "    how='left'\n",
        ")"
      ]
    },
    {
      "cell_type": "code",
      "execution_count": null,
      "id": "DqU4865DPWNw",
      "metadata": {
        "id": "DqU4865DPWNw"
      },
      "outputs": [],
      "source": [
        "linked_entities_snomed"
      ]
    },
    {
      "cell_type": "code",
      "execution_count": null,
      "id": "tZu73eZVPXlr",
      "metadata": {
        "id": "tZu73eZVPXlr"
      },
      "outputs": [],
      "source": [
        "print(f\"{len(linked_entities_snomed.dropna(subset=['CODE'])) / len(linked_entities_snomed) * 100}% of the entities have a SNOMED code\")"
      ]
    },
    {
      "cell_type": "code",
      "execution_count": null,
      "id": "Zk7uZZOXPk4n",
      "metadata": {
        "id": "Zk7uZZOXPk4n"
      },
      "outputs": [],
      "source": [
        "print(f\"{len(linked_entities_mesh.dropna(subset=['CODE'])) / len(linked_entities_mesh) * 100}% of the entities have a MeSH code\")"
      ]
    },
    {
      "cell_type": "markdown",
      "id": "BiYyecvPyG1M",
      "metadata": {
        "id": "BiYyecvPyG1M"
      },
      "source": [
        "# Step 7. Utilize MeSH Hierarchy to Semantically Group Linked Entities\n",
        "This file was originally downloaded from the NIH National Library of Medicine Website at [The Following Link](https://www.nlm.nih.gov/databases/download/mesh.html). The original file is in XML format, which I then processed and converted into a CSV file for ease of loading and reduced disk storage."
      ]
    },
    {
      "cell_type": "code",
      "execution_count": null,
      "id": "ZdonpjTGPv8B",
      "metadata": {
        "id": "ZdonpjTGPv8B"
      },
      "outputs": [],
      "source": [
        "# now load in the MeSH Hierarchy file\n",
        "mesh_hierarchy = pd.read_csv('https://github.com/expmed/arch_workshop_scispacy_entity_linking_ws11/raw/refs/heads/main/mesh_hierarchy.csv')"
      ]
    },
    {
      "cell_type": "code",
      "execution_count": null,
      "id": "QjeK4aFA3SGC",
      "metadata": {
        "id": "QjeK4aFA3SGC"
      },
      "outputs": [],
      "source": [
        "mesh_hierarchy"
      ]
    },
    {
      "cell_type": "code",
      "execution_count": null,
      "id": "HXZcwS3X3TCf",
      "metadata": {
        "id": "HXZcwS3X3TCf"
      },
      "outputs": [],
      "source": [
        "# now we link in the tree numbers to the MeSH mapped entities\n",
        "linked_entities_mesh_hierarchy = linked_entities_mesh.merge(\n",
        "    mesh_hierarchy[['UI', 'tree_number']],\n",
        "    left_on='CODE',\n",
        "    right_on='UI',\n",
        "    how='inner'\n",
        ")"
      ]
    },
    {
      "cell_type": "code",
      "execution_count": null,
      "id": "D4H0vwGt4gdp",
      "metadata": {
        "id": "D4H0vwGt4gdp"
      },
      "outputs": [],
      "source": [
        "linked_entities_mesh_hierarchy"
      ]
    },
    {
      "cell_type": "code",
      "execution_count": null,
      "id": "wGi2SslL_BFn",
      "metadata": {
        "id": "wGi2SslL_BFn"
      },
      "outputs": [],
      "source": [
        "set(linked_entities_mesh_hierarchy['tree_number'])"
      ]
    },
    {
      "cell_type": "code",
      "execution_count": null,
      "id": "v4VY-aX48G0e",
      "metadata": {
        "id": "v4VY-aX48G0e"
      },
      "outputs": [],
      "source": [
        "# format the mesh hierarchy as a lookup table/dictionary\n",
        "mesh_dictionary = {\n",
        "    row['tree_number']: row['name']\n",
        "    for _, row in tqdm(mesh_hierarchy.iterrows(), total=len(mesh_hierarchy))\n",
        "}"
      ]
    },
    {
      "cell_type": "markdown",
      "id": "300418cb",
      "metadata": {},
      "source": [
        "Here we define a function that iteratively walks down the MeSH hierarchy by taking longer and longer \\\n",
        "prefixes of the MeSH tree numbers, until all tree numbers and their ancestors have been enumerated"
      ]
    },
    {
      "cell_type": "code",
      "execution_count": null,
      "id": "tclAG7x64iFb",
      "metadata": {
        "id": "tclAG7x64iFb"
      },
      "outputs": [],
      "source": [
        "# now we specify a function to walk up the MeSH tree for each entity\n",
        "def walk_mesh_hierarchy(entities_df, mesh_hierarchy):\n",
        "  result = entities_df.copy()\n",
        "  # get the set of distinct tree numbers in the dataset\n",
        "  tree_nums = set(entities_df['tree_number'].tolist())\n",
        "  # start at the top level\n",
        "  level = 1\n",
        "  # while we still have tree numbers to process\n",
        "  while len(tree_nums) > 0:\n",
        "    print(f\"Processing level {level}\")\n",
        "    # save the mappings for the current level in a list\n",
        "    level_mappings = []\n",
        "    # keep track of tree numbers to remove after processing this level\n",
        "    to_remove = set()\n",
        "    # loop over the tree nums\n",
        "    for tree_num in tree_nums:\n",
        "      # get the prefix for the current tree level\n",
        "      prefix = '.'.join(tree_num.split(\".\")[:level])\n",
        "      # if the prefix is different from the tree number, save a mapping for the current level\n",
        "      if prefix != tree_num:\n",
        "        level_mappings.append({\n",
        "            'tree_number': tree_num,\n",
        "            f'level_{level}_tree_number': prefix,\n",
        "            f'level_{level}_parent_name': mesh_hierarchy[prefix]\n",
        "        })\n",
        "      else:\n",
        "        # we have already enumerated all ancestors if the prefix matches, so remove the tree number\n",
        "        to_remove.add(tree_num)\n",
        "    # merge in the mappings for the current level if we have any\n",
        "    if len(level_mappings) > 0:\n",
        "      result = result.merge(\n",
        "          pd.DataFrame(level_mappings),\n",
        "          on='tree_number',\n",
        "          how='left'\n",
        "      )\n",
        "    # move one level down the tree\n",
        "    level += 1\n",
        "    # update the set of tree_nums\n",
        "    tree_nums = tree_nums - to_remove\n",
        "  # return the result dataframe\n",
        "  return result\n"
      ]
    },
    {
      "cell_type": "code",
      "execution_count": null,
      "id": "T-w4YE7k9wSi",
      "metadata": {
        "id": "T-w4YE7k9wSi"
      },
      "outputs": [],
      "source": [
        "linked_entities_mesh_final = walk_mesh_hierarchy(\n",
        "    linked_entities_mesh_hierarchy,\n",
        "    mesh_dictionary\n",
        ")"
      ]
    },
    {
      "cell_type": "code",
      "execution_count": null,
      "id": "MaqVnJBx969S",
      "metadata": {
        "id": "MaqVnJBx969S"
      },
      "outputs": [],
      "source": [
        "linked_entities_mesh_final[['note_id', 'entity_name', 'name', 'definition', 'label', 'level_1_parent_name', 'level_2_parent_name', 'tree_number']]"
      ]
    },
    {
      "cell_type": "markdown",
      "id": "ExRlvtWpAPeT",
      "metadata": {
        "id": "ExRlvtWpAPeT"
      },
      "source": [
        "# Exercises"
      ]
    },
    {
      "cell_type": "code",
      "execution_count": null,
      "id": "JKvfbQTNAQX3",
      "metadata": {
        "id": "JKvfbQTNAQX3"
      },
      "outputs": [],
      "source": [
        "# Exercise 1: Count the number of patient notes that mention respiratory tract diseases"
      ]
    },
    {
      "cell_type": "code",
      "execution_count": null,
      "id": "O466xnn5Ad0V",
      "metadata": {
        "id": "O466xnn5Ad0V"
      },
      "outputs": [],
      "source": [
        "# Exercise 2: For entities with a tree number prefixed by 'C' (Diseases) Rank them by number of notes mentioning each kind of disease\n",
        "# Use the level 1 parent name\n"
      ]
    },
    {
      "cell_type": "code",
      "execution_count": null,
      "id": "Sc6ym6zHBVx9",
      "metadata": {
        "id": "Sc6ym6zHBVx9"
      },
      "outputs": [],
      "source": [
        "# Exercise 3: What are the 10 most frequent anatomical parts mentioned in notes tagged with Neoplasms?\n",
        "# Note: MeSH terms categorized as anatomical have a tree number prefixed by 'A'\n",
        "\n"
      ]
    }
  ],
  "metadata": {
    "colab": {
      "provenance": []
    },
    "kernelspec": {
      "display_name": "Python 3 (ipykernel)",
      "language": "python",
      "name": "python3"
    },
    "language_info": {
      "codemirror_mode": {
        "name": "ipython",
        "version": 3
      },
      "file_extension": ".py",
      "mimetype": "text/x-python",
      "name": "python",
      "nbconvert_exporter": "python",
      "pygments_lexer": "ipython3",
      "version": "3.9.7"
    }
  },
  "nbformat": 4,
  "nbformat_minor": 5
}
