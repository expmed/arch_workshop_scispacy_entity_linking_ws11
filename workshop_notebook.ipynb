{
  "cells": [
    {
      "cell_type": "markdown",
      "id": "S_zvrgde9N9H",
      "metadata": {
        "id": "S_zvrgde9N9H"
      },
      "source": [
        "# Step 1. Loading Public Clinical Notes Data from Hugging Face\n",
        "Per the dataset page on HuggingFace located at [https://huggingface.co/datasets/AGBonnet/augmented-clinical-notes](https://huggingface.co/datasets/AGBonnet/augmented-clinical-notes)\n",
        "\n",
        "### Augmented Clinical Notes\n",
        "\n",
        "The Augmented Clinical Notes dataset is an extension of existing datasets containing 30,000 triplets from different sources:\n",
        "\n",
        "    - Real clinical notes (PMC-Patients): Clinical notes correspond to patient summaries from the PMC-Patients dataset, which are extracted from PubMed Central case studies.\n",
        "    - Synthetic dialogues (NoteChat): Synthetic patient-doctor conversations were generated from clinical notes using GPT 3.5.\n",
        "    - Structured patient information (ours): From clinical notes, we generate structured patient summaries using GPT-4 and a tailored medical information template (see details below).\n",
        "\n",
        "This dataset was used to train MediNote-7B and MediNote-13B, a set of clinical note generators fine-tuned from the MediTron large language models.\n",
        "\n",
        "Our full report is available [here](https://huggingface.co/datasets/AGBonnet/augmented-clinical-notes/blob/main/report.pdf).\n",
        "### Dataset Details\n",
        "\n",
        "    - Curated by: Antoine Bonnet and Paul Boulenger\n",
        "    - Language(s): English only\n",
        "    - Repository: EPFL-IC-Make-Team/ClinicalNotes\n",
        "    - Paper: MediNote: Automated Clinical Notes"
      ]
    },
    {
      "cell_type": "code",
      "execution_count": 1,
      "id": "1e6e2402",
      "metadata": {
        "id": "1e6e2402"
      },
      "outputs": [],
      "source": [
        "import pandas as pd\n",
        "import warnings\n",
        "warnings.filterwarnings(\"ignore\", category=UserWarning)"
      ]
    },
    {
      "cell_type": "code",
      "execution_count": 2,
      "id": "e243e140",
      "metadata": {
        "id": "e243e140"
      },
      "outputs": [
        {
          "name": "stderr",
          "output_type": "stream",
          "text": [
            "/Users/troy/arch_workshop_scispacy_entity_linking_ws11/environment/lib/python3.9/site-packages/requests/__init__.py:86: RequestsDependencyWarning: Unable to find acceptable character detection dependency (chardet or charset_normalizer).\n",
            "  warnings.warn(\n"
          ]
        }
      ],
      "source": [
        "# load in the clinical notes dataset from huggingface\n",
        "df = pd.read_json(\"hf://datasets/AGBonnet/augmented-clinical-notes/augmented_notes_30K.jsonl\", lines=True, nrows=300)"
      ]
    },
    {
      "cell_type": "code",
      "execution_count": 3,
      "id": "8b0791db",
      "metadata": {
        "id": "8b0791db"
      },
      "outputs": [
        {
          "data": {
            "text/html": [
              "<div>\n",
              "<style scoped>\n",
              "    .dataframe tbody tr th:only-of-type {\n",
              "        vertical-align: middle;\n",
              "    }\n",
              "\n",
              "    .dataframe tbody tr th {\n",
              "        vertical-align: top;\n",
              "    }\n",
              "\n",
              "    .dataframe thead th {\n",
              "        text-align: right;\n",
              "    }\n",
              "</style>\n",
              "<table border=\"1\" class=\"dataframe\">\n",
              "  <thead>\n",
              "    <tr style=\"text-align: right;\">\n",
              "      <th></th>\n",
              "      <th>note</th>\n",
              "      <th>conversation</th>\n",
              "      <th>idx</th>\n",
              "      <th>summary</th>\n",
              "      <th>full_note</th>\n",
              "    </tr>\n",
              "  </thead>\n",
              "  <tbody>\n",
              "    <tr>\n",
              "      <th>0</th>\n",
              "      <td>A a sixteen year-old girl, presented to our Ou...</td>\n",
              "      <td>Doctor: Good morning, what brings you to the O...</td>\n",
              "      <td>155216</td>\n",
              "      <td>{\\n\"visit motivation\": \"Discomfort in the neck...</td>\n",
              "      <td>A a sixteen year-old girl, presented to our Ou...</td>\n",
              "    </tr>\n",
              "    <tr>\n",
              "      <th>1</th>\n",
              "      <td>This is the case of a 56-year-old man that was...</td>\n",
              "      <td>Doctor: Hi, how are you feeling today?\\nPatien...</td>\n",
              "      <td>77465</td>\n",
              "      <td>{\\n\"visit motivation\": \"Complaints of a dull p...</td>\n",
              "      <td>This is the case of a 56-year-old man that was...</td>\n",
              "    </tr>\n",
              "    <tr>\n",
              "      <th>2</th>\n",
              "      <td>A 36-year old female patient visited our hospi...</td>\n",
              "      <td>Doctor: Hello, what brings you to the hospital...</td>\n",
              "      <td>133948</td>\n",
              "      <td>{\\n\"visit motivation\": \"Pain and restricted ra...</td>\n",
              "      <td>A 36-year old female patient visited our hospi...</td>\n",
              "    </tr>\n",
              "    <tr>\n",
              "      <th>3</th>\n",
              "      <td>A 49-year-old male presented with a complaint ...</td>\n",
              "      <td>Doctor: Good morning, Mr. [Patient's Name]. I'...</td>\n",
              "      <td>80176</td>\n",
              "      <td>{\\n\"visit motivation\": \"Pain in the left proxi...</td>\n",
              "      <td>A 49-year-old male presented with a complaint ...</td>\n",
              "    </tr>\n",
              "    <tr>\n",
              "      <th>4</th>\n",
              "      <td>A 47-year-old male patient was referred to the...</td>\n",
              "      <td>Doctor: Good morning, how are you feeling toda...</td>\n",
              "      <td>72232</td>\n",
              "      <td>{\\n\"visit motivation\": \"Recurrent attacks of p...</td>\n",
              "      <td>A 47-year-old male patient was referred to the...</td>\n",
              "    </tr>\n",
              "    <tr>\n",
              "      <th>...</th>\n",
              "      <td>...</td>\n",
              "      <td>...</td>\n",
              "      <td>...</td>\n",
              "      <td>...</td>\n",
              "      <td>...</td>\n",
              "    </tr>\n",
              "    <tr>\n",
              "      <th>295</th>\n",
              "      <td>A 36-year-old man, originally from Latin Ameri...</td>\n",
              "      <td>Doctor: Hello, what brings you in today?\\nPati...</td>\n",
              "      <td>174877</td>\n",
              "      <td>{\\n\"visit motivation\": \"Complaints of abdomina...</td>\n",
              "      <td>A 36-year-old man, originally from Latin Ameri...</td>\n",
              "    </tr>\n",
              "    <tr>\n",
              "      <th>296</th>\n",
              "      <td>An otherwise healthy 22-year-old caucasian wom...</td>\n",
              "      <td>Doctor: Good morning, how can I help you today...</td>\n",
              "      <td>41761</td>\n",
              "      <td>{\\n\"visit motivation\": \"Accelerated growth of ...</td>\n",
              "      <td>An otherwise healthy 22-year-old caucasian wom...</td>\n",
              "    </tr>\n",
              "    <tr>\n",
              "      <th>297</th>\n",
              "      <td>A 36-year-old man, originally from Latin Ameri...</td>\n",
              "      <td>Doctor: Good afternoon, sir. I understand that...</td>\n",
              "      <td>7876</td>\n",
              "      <td>{\\n\"visit motivation\": \"Complaints of abdomina...</td>\n",
              "      <td>A 36-year-old man, originally from Latin Ameri...</td>\n",
              "    </tr>\n",
              "    <tr>\n",
              "      <th>298</th>\n",
              "      <td>Our patient is a 38-year-old male who presente...</td>\n",
              "      <td>Doctor: Hi there, how are you feeling today?\\n...</td>\n",
              "      <td>182286</td>\n",
              "      <td>{\\n\"visit motivation\": \"Right chest wall and s...</td>\n",
              "      <td>Our patient is a 38-year-old male who presente...</td>\n",
              "    </tr>\n",
              "    <tr>\n",
              "      <th>299</th>\n",
              "      <td>A 72-year old man, previously well, was admitt...</td>\n",
              "      <td>Doctor: Good morning, sir. How are you feeling...</td>\n",
              "      <td>90099</td>\n",
              "      <td>{\\n\"visit motivation\": \"Fever, recurrent blood...</td>\n",
              "      <td>A 72-year old man, previously well, was admitt...</td>\n",
              "    </tr>\n",
              "  </tbody>\n",
              "</table>\n",
              "<p>300 rows × 5 columns</p>\n",
              "</div>"
            ],
            "text/plain": [
              "                                                  note  \\\n",
              "0    A a sixteen year-old girl, presented to our Ou...   \n",
              "1    This is the case of a 56-year-old man that was...   \n",
              "2    A 36-year old female patient visited our hospi...   \n",
              "3    A 49-year-old male presented with a complaint ...   \n",
              "4    A 47-year-old male patient was referred to the...   \n",
              "..                                                 ...   \n",
              "295  A 36-year-old man, originally from Latin Ameri...   \n",
              "296  An otherwise healthy 22-year-old caucasian wom...   \n",
              "297  A 36-year-old man, originally from Latin Ameri...   \n",
              "298  Our patient is a 38-year-old male who presente...   \n",
              "299  A 72-year old man, previously well, was admitt...   \n",
              "\n",
              "                                          conversation     idx  \\\n",
              "0    Doctor: Good morning, what brings you to the O...  155216   \n",
              "1    Doctor: Hi, how are you feeling today?\\nPatien...   77465   \n",
              "2    Doctor: Hello, what brings you to the hospital...  133948   \n",
              "3    Doctor: Good morning, Mr. [Patient's Name]. I'...   80176   \n",
              "4    Doctor: Good morning, how are you feeling toda...   72232   \n",
              "..                                                 ...     ...   \n",
              "295  Doctor: Hello, what brings you in today?\\nPati...  174877   \n",
              "296  Doctor: Good morning, how can I help you today...   41761   \n",
              "297  Doctor: Good afternoon, sir. I understand that...    7876   \n",
              "298  Doctor: Hi there, how are you feeling today?\\n...  182286   \n",
              "299  Doctor: Good morning, sir. How are you feeling...   90099   \n",
              "\n",
              "                                               summary  \\\n",
              "0    {\\n\"visit motivation\": \"Discomfort in the neck...   \n",
              "1    {\\n\"visit motivation\": \"Complaints of a dull p...   \n",
              "2    {\\n\"visit motivation\": \"Pain and restricted ra...   \n",
              "3    {\\n\"visit motivation\": \"Pain in the left proxi...   \n",
              "4    {\\n\"visit motivation\": \"Recurrent attacks of p...   \n",
              "..                                                 ...   \n",
              "295  {\\n\"visit motivation\": \"Complaints of abdomina...   \n",
              "296  {\\n\"visit motivation\": \"Accelerated growth of ...   \n",
              "297  {\\n\"visit motivation\": \"Complaints of abdomina...   \n",
              "298  {\\n\"visit motivation\": \"Right chest wall and s...   \n",
              "299  {\\n\"visit motivation\": \"Fever, recurrent blood...   \n",
              "\n",
              "                                             full_note  \n",
              "0    A a sixteen year-old girl, presented to our Ou...  \n",
              "1    This is the case of a 56-year-old man that was...  \n",
              "2    A 36-year old female patient visited our hospi...  \n",
              "3    A 49-year-old male presented with a complaint ...  \n",
              "4    A 47-year-old male patient was referred to the...  \n",
              "..                                                 ...  \n",
              "295  A 36-year-old man, originally from Latin Ameri...  \n",
              "296  An otherwise healthy 22-year-old caucasian wom...  \n",
              "297  A 36-year-old man, originally from Latin Ameri...  \n",
              "298  Our patient is a 38-year-old male who presente...  \n",
              "299  A 72-year old man, previously well, was admitt...  \n",
              "\n",
              "[300 rows x 5 columns]"
            ]
          },
          "execution_count": 3,
          "metadata": {},
          "output_type": "execute_result"
        }
      ],
      "source": [
        "df"
      ]
    },
    {
      "cell_type": "markdown",
      "id": "TAam8yjq9Vxx",
      "metadata": {
        "id": "TAam8yjq9Vxx"
      },
      "source": [
        "# Step 2. Installation of scispaCy Package and Model for NEL"
      ]
    },
    {
      "cell_type": "code",
      "execution_count": 4,
      "id": "b_Uytd5J9jtQ",
      "metadata": {
        "id": "b_Uytd5J9jtQ"
      },
      "outputs": [
        {
          "name": "stdout",
          "output_type": "stream",
          "text": [
            "Requirement already satisfied: scispacy in ./environment/lib/python3.9/site-packages (0.5.5)\n",
            "Requirement already satisfied: spacy<3.8.0,>=3.7.0 in ./environment/lib/python3.9/site-packages (from scispacy) (3.7.5)\n",
            "Requirement already satisfied: scipy in ./environment/lib/python3.9/site-packages (from scispacy) (1.13.1)\n",
            "Requirement already satisfied: requests<3.0.0,>=2.0.0 in ./environment/lib/python3.9/site-packages (from scispacy) (2.32.4)\n",
            "Requirement already satisfied: conllu in ./environment/lib/python3.9/site-packages (from scispacy) (6.0.0)\n",
            "Requirement already satisfied: numpy in ./environment/lib/python3.9/site-packages (from scispacy) (1.26.4)\n",
            "Requirement already satisfied: joblib in ./environment/lib/python3.9/site-packages (from scispacy) (1.5.1)\n",
            "Requirement already satisfied: scikit-learn>=0.20.3 in ./environment/lib/python3.9/site-packages (from scispacy) (1.6.1)\n",
            "Requirement already satisfied: pysbd in ./environment/lib/python3.9/site-packages (from scispacy) (0.3.4)\n",
            "Requirement already satisfied: nmslib>=1.7.3.6 in ./environment/lib/python3.9/site-packages (from scispacy) (2.1.1)\n",
            "Requirement already satisfied: charset_normalizer<4,>=2 in ./environment/lib/python3.9/site-packages (from requests<3.0.0,>=2.0.0->scispacy) (3.3.2)\n",
            "Requirement already satisfied: idna<4,>=2.5 in ./environment/lib/python3.9/site-packages (from requests<3.0.0,>=2.0.0->scispacy) (3.10)\n",
            "Requirement already satisfied: urllib3<3,>=1.21.1 in ./environment/lib/python3.9/site-packages (from requests<3.0.0,>=2.0.0->scispacy) (2.5.0)\n",
            "Requirement already satisfied: certifi>=2017.4.17 in ./environment/lib/python3.9/site-packages (from requests<3.0.0,>=2.0.0->scispacy) (2025.7.14)\n",
            "Requirement already satisfied: spacy-legacy<3.1.0,>=3.0.11 in ./environment/lib/python3.9/site-packages (from spacy<3.8.0,>=3.7.0->scispacy) (3.0.12)\n",
            "Requirement already satisfied: spacy-loggers<2.0.0,>=1.0.0 in ./environment/lib/python3.9/site-packages (from spacy<3.8.0,>=3.7.0->scispacy) (1.0.5)\n",
            "Requirement already satisfied: murmurhash<1.1.0,>=0.28.0 in ./environment/lib/python3.9/site-packages (from spacy<3.8.0,>=3.7.0->scispacy) (1.0.13)\n",
            "Requirement already satisfied: cymem<2.1.0,>=2.0.2 in ./environment/lib/python3.9/site-packages (from spacy<3.8.0,>=3.7.0->scispacy) (2.0.11)\n",
            "Requirement already satisfied: preshed<3.1.0,>=3.0.2 in ./environment/lib/python3.9/site-packages (from spacy<3.8.0,>=3.7.0->scispacy) (3.0.10)\n",
            "Requirement already satisfied: thinc<8.3.0,>=8.2.2 in ./environment/lib/python3.9/site-packages (from spacy<3.8.0,>=3.7.0->scispacy) (8.2.5)\n",
            "Requirement already satisfied: wasabi<1.2.0,>=0.9.1 in ./environment/lib/python3.9/site-packages (from spacy<3.8.0,>=3.7.0->scispacy) (1.1.3)\n",
            "Requirement already satisfied: srsly<3.0.0,>=2.4.3 in ./environment/lib/python3.9/site-packages (from spacy<3.8.0,>=3.7.0->scispacy) (2.5.1)\n",
            "Requirement already satisfied: catalogue<2.1.0,>=2.0.6 in ./environment/lib/python3.9/site-packages (from spacy<3.8.0,>=3.7.0->scispacy) (2.0.10)\n",
            "Requirement already satisfied: weasel<0.5.0,>=0.1.0 in ./environment/lib/python3.9/site-packages (from spacy<3.8.0,>=3.7.0->scispacy) (0.4.1)\n",
            "Requirement already satisfied: typer<1.0.0,>=0.3.0 in ./environment/lib/python3.9/site-packages (from spacy<3.8.0,>=3.7.0->scispacy) (0.16.0)\n",
            "Requirement already satisfied: tqdm<5.0.0,>=4.38.0 in ./environment/lib/python3.9/site-packages (from spacy<3.8.0,>=3.7.0->scispacy) (4.67.1)\n",
            "Requirement already satisfied: pydantic!=1.8,!=1.8.1,<3.0.0,>=1.7.4 in ./environment/lib/python3.9/site-packages (from spacy<3.8.0,>=3.7.0->scispacy) (2.11.7)\n",
            "Requirement already satisfied: jinja2 in ./environment/lib/python3.9/site-packages (from spacy<3.8.0,>=3.7.0->scispacy) (3.1.6)\n",
            "Requirement already satisfied: setuptools in ./environment/lib/python3.9/site-packages (from spacy<3.8.0,>=3.7.0->scispacy) (78.1.1)\n",
            "Requirement already satisfied: packaging>=20.0 in ./environment/lib/python3.9/site-packages (from spacy<3.8.0,>=3.7.0->scispacy) (24.2)\n",
            "Requirement already satisfied: langcodes<4.0.0,>=3.2.0 in ./environment/lib/python3.9/site-packages (from spacy<3.8.0,>=3.7.0->scispacy) (3.5.0)\n",
            "Requirement already satisfied: language-data>=1.2 in ./environment/lib/python3.9/site-packages (from langcodes<4.0.0,>=3.2.0->spacy<3.8.0,>=3.7.0->scispacy) (1.3.0)\n",
            "Requirement already satisfied: annotated-types>=0.6.0 in ./environment/lib/python3.9/site-packages (from pydantic!=1.8,!=1.8.1,<3.0.0,>=1.7.4->spacy<3.8.0,>=3.7.0->scispacy) (0.7.0)\n",
            "Requirement already satisfied: pydantic-core==2.33.2 in ./environment/lib/python3.9/site-packages (from pydantic!=1.8,!=1.8.1,<3.0.0,>=1.7.4->spacy<3.8.0,>=3.7.0->scispacy) (2.33.2)\n",
            "Requirement already satisfied: typing-extensions>=4.12.2 in ./environment/lib/python3.9/site-packages (from pydantic!=1.8,!=1.8.1,<3.0.0,>=1.7.4->spacy<3.8.0,>=3.7.0->scispacy) (4.12.2)\n",
            "Requirement already satisfied: typing-inspection>=0.4.0 in ./environment/lib/python3.9/site-packages (from pydantic!=1.8,!=1.8.1,<3.0.0,>=1.7.4->spacy<3.8.0,>=3.7.0->scispacy) (0.4.1)\n",
            "Requirement already satisfied: blis<0.8.0,>=0.7.8 in ./environment/lib/python3.9/site-packages (from thinc<8.3.0,>=8.2.2->spacy<3.8.0,>=3.7.0->scispacy) (0.7.11)\n",
            "Requirement already satisfied: confection<1.0.0,>=0.0.1 in ./environment/lib/python3.9/site-packages (from thinc<8.3.0,>=8.2.2->spacy<3.8.0,>=3.7.0->scispacy) (0.1.5)\n",
            "Requirement already satisfied: click>=8.0.0 in ./environment/lib/python3.9/site-packages (from typer<1.0.0,>=0.3.0->spacy<3.8.0,>=3.7.0->scispacy) (8.1.8)\n",
            "Requirement already satisfied: shellingham>=1.3.0 in ./environment/lib/python3.9/site-packages (from typer<1.0.0,>=0.3.0->spacy<3.8.0,>=3.7.0->scispacy) (1.5.4)\n",
            "Requirement already satisfied: rich>=10.11.0 in ./environment/lib/python3.9/site-packages (from typer<1.0.0,>=0.3.0->spacy<3.8.0,>=3.7.0->scispacy) (14.1.0)\n",
            "Requirement already satisfied: cloudpathlib<1.0.0,>=0.7.0 in ./environment/lib/python3.9/site-packages (from weasel<0.5.0,>=0.1.0->spacy<3.8.0,>=3.7.0->scispacy) (0.21.1)\n",
            "Requirement already satisfied: smart-open<8.0.0,>=5.2.1 in ./environment/lib/python3.9/site-packages (from weasel<0.5.0,>=0.1.0->spacy<3.8.0,>=3.7.0->scispacy) (7.3.0.post1)\n",
            "Requirement already satisfied: wrapt in ./environment/lib/python3.9/site-packages (from smart-open<8.0.0,>=5.2.1->weasel<0.5.0,>=0.1.0->spacy<3.8.0,>=3.7.0->scispacy) (1.17.2)\n",
            "\u001b[31mERROR: Could not install packages due to an OSError: [Errno 2] No such file or directory: '/Users/troy/arch_workshop_scispacy_entity_linking_ws11/environment/lib/python3.9/site-packages/certifi-2025.7.14.dist-info/METADATA'\n",
            "\u001b[0m\u001b[31m\n",
            "\u001b[0m"
          ]
        }
      ],
      "source": [
        "!pip install scispacy\n"
      ]
    },
    {
      "cell_type": "code",
      "execution_count": null,
      "id": "tJ60zW0j9akV",
      "metadata": {
        "id": "tJ60zW0j9akV"
      },
      "outputs": [],
      "source": [
        "!pip install https://s3-us-west-2.amazonaws.com/ai2-s2-scispacy/releases/v0.5.4/en_core_sci_sm-0.5.4.tar.gz"
      ]
    },
    {
      "cell_type": "markdown",
      "id": "VgyfafOY-Ko6",
      "metadata": {
        "id": "VgyfafOY-Ko6"
      },
      "source": [
        "# Step 3. Importing scispaCy package and creation of model for Named Entity Linking"
      ]
    },
    {
      "cell_type": "code",
      "execution_count": null,
      "id": "LXiKSiZ59fc_",
      "metadata": {
        "id": "LXiKSiZ59fc_"
      },
      "outputs": [],
      "source": [
        "import spacy\n",
        "import scispacy\n",
        "from scispacy.linking import EntityLinker"
      ]
    },
    {
      "cell_type": "code",
      "execution_count": null,
      "id": "hrZizxJE-RtR",
      "metadata": {
        "id": "hrZizxJE-RtR"
      },
      "outputs": [],
      "source": [
        "# now we create our model instance which can be used to process biomedical text\n",
        "nlp = spacy.load(\"en_core_sci_sm\")"
      ]
    },
    {
      "cell_type": "code",
      "execution_count": null,
      "id": "8Fq942z1-eSt",
      "metadata": {
        "id": "8Fq942z1-eSt"
      },
      "outputs": [],
      "source": [
        "# now we add a linker to the UMLS knowledgebase to our model pipeline\n",
        "nlp.add_pipe(\"scispacy_linker\", config={\"resolve_abbreviations\": True, \"linker_name\": \"mesh\"})"
      ]
    },
    {
      "cell_type": "code",
      "execution_count": null,
      "id": "8CBm8-vCDNxE",
      "metadata": {
        "id": "8CBm8-vCDNxE"
      },
      "outputs": [],
      "source": [
        "linker = nlp.get_pipe(\"scispacy_linker\")"
      ]
    },
    {
      "cell_type": "markdown",
      "id": "822e90de",
      "metadata": {},
      "source": [
        "### Quick Example: Getting the Entities from one of the Clinical Notes"
      ]
    },
    {
      "cell_type": "code",
      "execution_count": null,
      "id": "eed2b863",
      "metadata": {},
      "outputs": [],
      "source": [
        "doc = nlp(df['note'][0])\n",
        "for ent in doc.ents:\n",
        "    print(ent.text, ent.label_, ent._.kb_ents)"
      ]
    },
    {
      "cell_type": "markdown",
      "id": "SUyBWBBIHBCH",
      "metadata": {
        "id": "SUyBWBBIHBCH"
      },
      "source": [
        "# Step 4. Definition of Function for Extracting Named Entities from the Clinical Notes\n",
        "Here we define a function that, given the text for a note, extracts the top 3 linked vocabulary terms by score/confidence \\\n",
        " for each entity in the note, and then returns these as a pandas `DataFrame`"
      ]
    },
    {
      "cell_type": "code",
      "execution_count": null,
      "id": "1ChkfTpnCWjG",
      "metadata": {
        "id": "1ChkfTpnCWjG"
      },
      "outputs": [],
      "source": [
        "def get_linked_entities_for_doc(text, nlp, linker):\n",
        "  # get the document\n",
        "  doc = nlp(text)\n",
        "  # get the linked entities\n",
        "  linked_entities = []\n",
        "  for ent in doc.ents: # get all recognized entities\n",
        "    for entry in ent._.kb_ents[:3]: # get the top 3 linked vocabulary terms for each entity\n",
        "      linked_entities.append({\n",
        "          'entity_name': ent.text,\n",
        "          'cui': entry[0],\n",
        "          'score': entry[1],\n",
        "          'name': linker.kb.cui_to_entity[entry[0]].canonical_name,\n",
        "          'definition': linker.kb.cui_to_entity[entry[0]].definition,\n",
        "          'type_ids': ','.join(linker.kb.cui_to_entity[entry[0]].types),\n",
        "      })\n",
        "  return pd.DataFrame(linked_entities).drop_duplicates()\n"
      ]
    },
    {
      "cell_type": "markdown",
      "id": "1d599d12",
      "metadata": {},
      "source": [
        "#### Here we get the linked entities for a single document and filter to only include those with a score of at least 0.9"
      ]
    },
    {
      "cell_type": "code",
      "execution_count": null,
      "id": "l_TyJxYVDXu3",
      "metadata": {
        "id": "l_TyJxYVDXu3"
      },
      "outputs": [],
      "source": [
        "get_linked_entities_for_doc(df['full_note'][1], nlp, linker).query('score >= 0.9')"
      ]
    },
    {
      "cell_type": "code",
      "execution_count": null,
      "id": "kPbNRXDhGhhP",
      "metadata": {
        "id": "kPbNRXDhGhhP"
      },
      "outputs": [],
      "source": [
        "import pprint"
      ]
    },
    {
      "cell_type": "code",
      "execution_count": null,
      "id": "jThaBDetDdmI",
      "metadata": {
        "id": "jThaBDetDdmI"
      },
      "outputs": [],
      "source": [
        "pp = pprint.PrettyPrinter(indent=4)\n",
        "pp.pprint(df['full_note'][1])"
      ]
    },
    {
      "cell_type": "markdown",
      "id": "CUdDPG3rILeb",
      "metadata": {
        "id": "CUdDPG3rILeb"
      },
      "source": [
        "# Step 5. Extracting All Named Entities from The Clinical Notes\n",
        "Now we loop over the clinical notes dataset, and use our previously defined function to \\\n",
        "extract all linked entities for each note with a confidence score >= 0.9"
      ]
    },
    {
      "cell_type": "code",
      "execution_count": null,
      "id": "8sNWC-YqIXri",
      "metadata": {
        "id": "8sNWC-YqIXri"
      },
      "outputs": [],
      "source": [
        "from tqdm import tqdm"
      ]
    },
    {
      "cell_type": "code",
      "execution_count": null,
      "id": "j-M1exzmIQLF",
      "metadata": {
        "id": "j-M1exzmIQLF"
      },
      "outputs": [],
      "source": [
        "linked_entity_dfs = []\n",
        "for _, row in tqdm(df.iterrows(), total=len(df)):\n",
        "  linked_entities = get_linked_entities_for_doc(row['full_note'], nlp, linker).query('score >= 0.9')\n",
        "  linked_entity_dfs.append(\n",
        "      linked_entities.assign(type_ids_lst=lambda x: x['type_ids'].str.split(','))\n",
        "      .explode('type_ids_lst').assign(note_id=row['idx'])\n",
        "    )"
      ]
    },
    {
      "cell_type": "code",
      "execution_count": null,
      "id": "pnl69nWYJM77",
      "metadata": {
        "id": "pnl69nWYJM77"
      },
      "outputs": [],
      "source": [
        "linked_entities_all = pd.concat(linked_entity_dfs)"
      ]
    },
    {
      "cell_type": "code",
      "execution_count": null,
      "id": "5HHc7poOKho3",
      "metadata": {
        "id": "5HHc7poOKho3"
      },
      "outputs": [],
      "source": [
        "linked_entities_all"
      ]
    },
    {
      "cell_type": "code",
      "execution_count": null,
      "id": "8emMpP--K4Ke",
      "metadata": {
        "id": "8emMpP--K4Ke"
      },
      "outputs": [],
      "source": [
        "# inspecting the top 50 occuring linked entity names\n",
        "linked_entities_all['entity_name'].value_counts().head(50)"
      ]
    },
    {
      "cell_type": "markdown",
      "id": "REatisA7sKfP",
      "metadata": {
        "id": "REatisA7sKfP"
      },
      "source": [
        "# Step 6. Labeling Semantic Types for All Linked Entities\n",
        "Now we load in a dataset of semantic type labels and link these into the linked entities dataset"
      ]
    },
    {
      "cell_type": "code",
      "execution_count": null,
      "id": "nusdkexPsV13",
      "metadata": {
        "id": "nusdkexPsV13"
      },
      "outputs": [],
      "source": [
        "# first load in the file containing the labels for the semantic types\n",
        "semantic_type_labels = pd.read_csv('https://github.com/expmed/arch_workshop_scispacy_entity_linking_ws11/raw/refs/heads/main/umls_terms.txt')"
      ]
    },
    {
      "cell_type": "code",
      "execution_count": null,
      "id": "hbK8rBNBslC3",
      "metadata": {
        "id": "hbK8rBNBslC3"
      },
      "outputs": [],
      "source": [
        "semantic_type_labels"
      ]
    },
    {
      "cell_type": "code",
      "execution_count": null,
      "id": "F9GpwDfjspaO",
      "metadata": {
        "id": "F9GpwDfjspaO"
      },
      "outputs": [],
      "source": [
        "# now we add in these semantic type labels\n",
        "linked_entities_final = linked_entities_all.merge(\n",
        "    semantic_type_labels,\n",
        "    left_on='type_ids_lst',\n",
        "    right_on='tui',\n",
        "    how='left'\n",
        ")"
      ]
    },
    {
      "cell_type": "code",
      "execution_count": null,
      "id": "tCxw5JIKtBf5",
      "metadata": {
        "id": "tCxw5JIKtBf5"
      },
      "outputs": [],
      "source": [
        "linked_entities_final"
      ]
    },
    {
      "cell_type": "markdown",
      "id": "nlWctHbXtUUP",
      "metadata": {
        "id": "nlWctHbXtUUP"
      },
      "source": [
        "## Mini Exercise: Show the Top 20 Most Frequently Occuring Semantic Types Among Linked Entities"
      ]
    },
    {
      "cell_type": "code",
      "execution_count": null,
      "id": "h0kPiA-itdX1",
      "metadata": {
        "id": "h0kPiA-itdX1"
      },
      "outputs": [],
      "source": [
        "# Your solution below..."
      ]
    },
    {
      "cell_type": "markdown",
      "id": "9zFfgUbkKpH0",
      "metadata": {
        "id": "9zFfgUbkKpH0"
      },
      "source": [
        "# Step 7. Utilizing Publicly Available Crosswalk File to Link Entities to MeSH Terms and SNOMED Terms\n",
        "Here we utilize data extracted from the `MRCONSO.RRF` file hosted at [the National Library of Medicine](https://www.nlm.nih.gov/research/umls/new_users/online_learning/Meta_006.html) to crosswalk the CUI #s of the linked entities to Medical Subject Heading (MeSH) terms and Systematized Nomenclature of Medicine (SNOMED) terms."
      ]
    },
    {
      "cell_type": "code",
      "execution_count": null,
      "id": "aFjQS_GKLBig",
      "metadata": {
        "id": "aFjQS_GKLBig"
      },
      "outputs": [],
      "source": [
        "# first we load in mappings from UMLS concept unique ids to Medical Subject Heading (MeSH) terms\n",
        "mrconso_mesh_mappings = pd.read_parquet('https://github.com/expmed/arch_workshop_scispacy_entity_linking_ws11/raw/refs/heads/main/mrconso_mesh.parquet')"
      ]
    },
    {
      "cell_type": "code",
      "execution_count": null,
      "id": "uinf_0YYLNbk",
      "metadata": {
        "id": "uinf_0YYLNbk"
      },
      "outputs": [],
      "source": [
        "mrconso_mesh_mappings"
      ]
    },
    {
      "cell_type": "code",
      "execution_count": null,
      "id": "oPmmv2fgOwjb",
      "metadata": {
        "id": "oPmmv2fgOwjb"
      },
      "outputs": [],
      "source": [
        "# now we can merge the linked entities with the MeSH mappings\n",
        "linked_entities_mesh = linked_entities_final.merge(\n",
        "    mrconso_mesh_mappings,\n",
        "    left_on='cui',\n",
        "    right_on='CUI',\n",
        "    how='left'\n",
        ")"
      ]
    },
    {
      "cell_type": "code",
      "execution_count": null,
      "id": "WSJwryuwO9Uu",
      "metadata": {
        "id": "WSJwryuwO9Uu"
      },
      "outputs": [],
      "source": [
        "linked_entities_mesh"
      ]
    },
    {
      "cell_type": "code",
      "execution_count": null,
      "id": "ZBDEwp1OO-N3",
      "metadata": {
        "id": "ZBDEwp1OO-N3"
      },
      "outputs": [],
      "source": [
        "# now we load in the mappings from CUIs to Systematized Nomenclature of Medicine - Clinical Terms\n",
        "mrconso_snomed_mappings = pd.read_parquet('https://github.com/expmed/arch_workshop_scispacy_entity_linking_ws11/raw/refs/heads/main/mrconso_snomed.parquet')"
      ]
    },
    {
      "cell_type": "code",
      "execution_count": null,
      "id": "JNuB7665PS7E",
      "metadata": {
        "id": "JNuB7665PS7E"
      },
      "outputs": [],
      "source": [
        "linked_entities_snomed = linked_entities_final.merge(\n",
        "    mrconso_snomed_mappings,\n",
        "    left_on='cui',\n",
        "    right_on='CUI',\n",
        "    how='left'\n",
        ")"
      ]
    },
    {
      "cell_type": "code",
      "execution_count": null,
      "id": "DqU4865DPWNw",
      "metadata": {
        "id": "DqU4865DPWNw"
      },
      "outputs": [],
      "source": [
        "linked_entities_snomed"
      ]
    },
    {
      "cell_type": "code",
      "execution_count": null,
      "id": "tZu73eZVPXlr",
      "metadata": {
        "id": "tZu73eZVPXlr"
      },
      "outputs": [],
      "source": [
        "print(f\"{len(linked_entities_snomed.dropna(subset=['CODE'])) / len(linked_entities_snomed) * 100}% of the entities have a SNOMED code\")"
      ]
    },
    {
      "cell_type": "code",
      "execution_count": null,
      "id": "Zk7uZZOXPk4n",
      "metadata": {
        "id": "Zk7uZZOXPk4n"
      },
      "outputs": [],
      "source": [
        "print(f\"{len(linked_entities_mesh.dropna(subset=['CODE'])) / len(linked_entities_mesh) * 100}% of the entities have a MeSH code\")"
      ]
    },
    {
      "cell_type": "markdown",
      "id": "BiYyecvPyG1M",
      "metadata": {
        "id": "BiYyecvPyG1M"
      },
      "source": [
        "# Step 8. Utilize MeSH Hierarchy to Semantically Group Linked Entities\n",
        "This file was originally downloaded from the NIH National Library of Medicine Website at [The Following Link](https://www.nlm.nih.gov/databases/download/mesh.html). The original file is in XML format, which I then processed and converted into a CSV file for ease of loading and reduced disk storage."
      ]
    },
    {
      "cell_type": "code",
      "execution_count": null,
      "id": "ZdonpjTGPv8B",
      "metadata": {
        "id": "ZdonpjTGPv8B"
      },
      "outputs": [],
      "source": [
        "# now load in the MeSH Hierarchy file\n",
        "mesh_hierarchy = pd.read_csv('https://github.com/expmed/arch_workshop_scispacy_entity_linking_ws11/raw/refs/heads/main/mesh_hierarchy.csv')"
      ]
    },
    {
      "cell_type": "code",
      "execution_count": null,
      "id": "QjeK4aFA3SGC",
      "metadata": {
        "id": "QjeK4aFA3SGC"
      },
      "outputs": [],
      "source": [
        "mesh_hierarchy"
      ]
    },
    {
      "cell_type": "code",
      "execution_count": null,
      "id": "HXZcwS3X3TCf",
      "metadata": {
        "id": "HXZcwS3X3TCf"
      },
      "outputs": [],
      "source": [
        "# now we link in the tree numbers to the MeSH mapped entities\n",
        "linked_entities_mesh_hierarchy = linked_entities_mesh.merge(\n",
        "    mesh_hierarchy[['UI', 'tree_number']],\n",
        "    left_on='CODE',\n",
        "    right_on='UI',\n",
        "    how='inner'\n",
        ")"
      ]
    },
    {
      "cell_type": "code",
      "execution_count": null,
      "id": "D4H0vwGt4gdp",
      "metadata": {
        "id": "D4H0vwGt4gdp"
      },
      "outputs": [],
      "source": [
        "linked_entities_mesh_hierarchy"
      ]
    },
    {
      "cell_type": "code",
      "execution_count": null,
      "id": "wGi2SslL_BFn",
      "metadata": {
        "id": "wGi2SslL_BFn"
      },
      "outputs": [],
      "source": [
        "set(linked_entities_mesh_hierarchy['tree_number'])"
      ]
    },
    {
      "cell_type": "code",
      "execution_count": null,
      "id": "v4VY-aX48G0e",
      "metadata": {
        "id": "v4VY-aX48G0e"
      },
      "outputs": [],
      "source": [
        "# format the mesh hierarchy as a lookup table/dictionary\n",
        "mesh_dictionary = {\n",
        "    row['tree_number']: row['name']\n",
        "    for _, row in tqdm(mesh_hierarchy.iterrows(), total=len(mesh_hierarchy))\n",
        "}"
      ]
    },
    {
      "cell_type": "markdown",
      "id": "ae5b9ae6",
      "metadata": {},
      "source": [
        "Here we define a function that iteratively walks down the MeSH hierarchy by taking longer and longer \\\n",
        "prefixes of the MeSH tree numbers, until all tree numbers and their ancestors have been enumerated"
      ]
    },
    {
      "cell_type": "code",
      "execution_count": null,
      "id": "tclAG7x64iFb",
      "metadata": {
        "id": "tclAG7x64iFb"
      },
      "outputs": [],
      "source": [
        "# now we specify a function to walk up the MeSH tree for each entity\n",
        "def walk_mesh_hierarchy(entities_df, mesh_hierarchy):\n",
        "  result = entities_df.copy()\n",
        "  # get the set of distinct tree numbers in the dataset\n",
        "  tree_nums = set(entities_df['tree_number'].tolist())\n",
        "  # start at the top level\n",
        "  level = 1\n",
        "  # while we still have tree numbers to process\n",
        "  while len(tree_nums) > 0:\n",
        "    print(f\"Processing level {level}\")\n",
        "    # save the mappings for the current level in a list\n",
        "    level_mappings = []\n",
        "    # keep track of tree numbers to remove after processing this level\n",
        "    to_remove = set()\n",
        "    # loop over the tree nums\n",
        "    for tree_num in tree_nums:\n",
        "      # get the prefix for the current tree level\n",
        "      prefix = '.'.join(tree_num.split(\".\")[:level])\n",
        "      # if the prefix is different from the tree number, save a mapping for the current level\n",
        "      if prefix != tree_num:\n",
        "        level_mappings.append({\n",
        "            'tree_number': tree_num,\n",
        "            f'level_{level}_tree_number': prefix,\n",
        "            f'level_{level}_parent_name': mesh_hierarchy[prefix]\n",
        "        })\n",
        "      else:\n",
        "        # we have already enumerated all ancestors if the prefix matches, so remove the tree number\n",
        "        to_remove.add(tree_num)\n",
        "    # merge in the mappings for the current level if we have any\n",
        "    if len(level_mappings) > 0:\n",
        "      result = result.merge(\n",
        "          pd.DataFrame(level_mappings),\n",
        "          on='tree_number',\n",
        "          how='left'\n",
        "      )\n",
        "    # move one level down the tree\n",
        "    level += 1\n",
        "    # update the set of tree_nums\n",
        "    tree_nums = tree_nums - to_remove\n",
        "  # return the result dataframe\n",
        "  return result\n"
      ]
    },
    {
      "cell_type": "code",
      "execution_count": null,
      "id": "T-w4YE7k9wSi",
      "metadata": {
        "id": "T-w4YE7k9wSi"
      },
      "outputs": [],
      "source": [
        "linked_entities_mesh_final = walk_mesh_hierarchy(\n",
        "    linked_entities_mesh_hierarchy,\n",
        "    mesh_dictionary\n",
        ")"
      ]
    },
    {
      "cell_type": "code",
      "execution_count": null,
      "id": "MaqVnJBx969S",
      "metadata": {
        "id": "MaqVnJBx969S"
      },
      "outputs": [],
      "source": [
        "linked_entities_mesh_final[['note_id', 'entity_name', 'name', 'definition', 'label', 'level_1_parent_name', 'level_2_parent_name', 'tree_number']]"
      ]
    },
    {
      "cell_type": "markdown",
      "id": "ExRlvtWpAPeT",
      "metadata": {
        "id": "ExRlvtWpAPeT"
      },
      "source": [
        "# Exercises"
      ]
    },
    {
      "cell_type": "code",
      "execution_count": null,
      "id": "JKvfbQTNAQX3",
      "metadata": {
        "id": "JKvfbQTNAQX3"
      },
      "outputs": [],
      "source": [
        "# Exercise 1: Count the number of patient notes that mention respiratory tract diseases"
      ]
    },
    {
      "cell_type": "code",
      "execution_count": null,
      "id": "O466xnn5Ad0V",
      "metadata": {
        "id": "O466xnn5Ad0V"
      },
      "outputs": [],
      "source": [
        "# Exercise 2: For entities with a tree number prefixed by 'C' (Diseases) Rank them by number of notes mentioning each kind of disease\n",
        "# Use the level 1 parent name\n"
      ]
    },
    {
      "cell_type": "code",
      "execution_count": null,
      "id": "Sc6ym6zHBVx9",
      "metadata": {
        "id": "Sc6ym6zHBVx9"
      },
      "outputs": [],
      "source": [
        "# Exercise 3: What are the 10 most frequent anatomical parts mentioned in notes tagged with Neoplasms?\n",
        "# Note: MeSH terms categorized as anatomical have a tree number prefixed by 'A'\n",
        "\n"
      ]
    }
  ],
  "metadata": {
    "colab": {
      "provenance": []
    },
    "kernelspec": {
      "display_name": "Python 3 (ipykernel)",
      "language": "python",
      "name": "python3"
    }
  },
  "nbformat": 4,
  "nbformat_minor": 5
}
